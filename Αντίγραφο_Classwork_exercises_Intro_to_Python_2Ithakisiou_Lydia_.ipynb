{
  "nbformat": 4,
  "nbformat_minor": 0,
  "metadata": {
    "colab": {
      "provenance": []
    },
    "kernelspec": {
      "name": "python3",
      "display_name": "Python 3"
    },
    "language_info": {
      "name": "python"
    }
  },
  "cells": [
    {
      "cell_type": "markdown",
      "source": [
        "#Ασκήσεις του μαθήματος \"Εισαγωγή στην Python 2 - Εντολές ελέγχου: for και if\""
      ],
      "metadata": {
        "id": "AGAGAw3z6_bZ"
      }
    },
    {
      "cell_type": "markdown",
      "source": [
        "\n",
        "\n",
        "---\n",
        "\n",
        "####**Άσκηση 1**\n",
        "\n",
        "**Try yourself**: Φτιάξτε ένα νέο κελί κώδικα ακριβώς από κάτω και:\n",
        "\n",
        "* Φτιάξτε μια λίστα με ονόματα 3 αγαπημένων σας ηθοποιών\n",
        "* Φτιάξτε άλλη μια λίστα με το βαθμό (από το 1 έως το 10) που θα τους βάζατε\n",
        "* Φτιάξτε μια λούπα που να τρέχει στη λίστα των ηθποιών και να τυπώνει το όνομα του/της ηθοποιού με το βαθμό του "
      ],
      "metadata": {
        "id": "9KIe03Wzq7p3"
      }
    },
    {
      "cell_type": "code",
      "source": [
        "ithopoioi = [\"pappas\", \"blaxos\", \"makris\"]\n",
        "bathos = [3, 5, 7]\n",
        "for i in range (0, len(ithopoioi)) :\n",
        "  print( \"Ο\" , ithopoioi[i] , \"βαθμολογείται με : \" , bathos[i])"
      ],
      "metadata": {
        "colab": {
          "base_uri": "https://localhost:8080/"
        },
        "id": "sDO97IAWJJ5i",
        "outputId": "15e99495-0eba-4f48-f300-bf685aa45e54"
      },
      "execution_count": null,
      "outputs": [
        {
          "output_type": "stream",
          "name": "stdout",
          "text": [
            "Ο pappas βαθμολογείται με :  3\n",
            "Ο blaxos βαθμολογείται με :  5\n",
            "Ο makris βαθμολογείται με :  7\n"
          ]
        }
      ]
    },
    {
      "cell_type": "markdown",
      "source": [
        "\n",
        "\n",
        "---\n",
        "\n",
        "####**Άσκηση 2**\n",
        "\n",
        "**Try yourself**: Στο παρακάτω κελί και κάτω από τον υπάρχοντα κώδικα:\n",
        "\n",
        "* φτιάξτε μια for loop που θα τρέχει 22 φορές και \n",
        "* θα φτιάχνει μια μεταβλητή με όνομα c και τιμή το άθροισμα των a και b\n",
        "* θα τυπώνει την τιμή του c\n",
        "* θα αλλάζει την τιμή του a σε b και  \n",
        "* θα αλλάζει την τιμή του b σε c\n",
        "* τρέξτε τον κώδικα\n"
      ],
      "metadata": {
        "id": "wJDRIJj4seRf"
      }
    },
    {
      "cell_type": "code",
      "source": [
        "a = 0 \n",
        "b = 1\n",
        "print(a)\n",
        "print(b)"
      ],
      "metadata": {
        "id": "cM6QC3X0twzD",
        "colab": {
          "base_uri": "https://localhost:8080/"
        },
        "outputId": "f803f941-3d4a-44f7-8d24-cffa45f30a79"
      },
      "execution_count": null,
      "outputs": [
        {
          "output_type": "stream",
          "name": "stdout",
          "text": [
            "0\n",
            "1\n"
          ]
        }
      ]
    },
    {
      "cell_type": "code",
      "source": [
        "for i in range (0,22):\n",
        "  c = a + b\n",
        "  print (c)\n",
        "  a = b\n",
        "  b = c"
      ],
      "metadata": {
        "colab": {
          "base_uri": "https://localhost:8080/"
        },
        "id": "ggi-l6N-M3Tn",
        "outputId": "0f9d63b8-58c8-41ae-8752-e9ad1a734ba7"
      },
      "execution_count": null,
      "outputs": [
        {
          "output_type": "stream",
          "name": "stdout",
          "text": [
            "1\n",
            "2\n",
            "3\n",
            "5\n",
            "8\n",
            "13\n",
            "21\n",
            "34\n",
            "55\n",
            "89\n",
            "144\n",
            "233\n",
            "377\n",
            "610\n",
            "987\n",
            "1597\n",
            "2584\n",
            "4181\n",
            "6765\n",
            "10946\n",
            "17711\n",
            "28657\n"
          ]
        }
      ]
    },
    {
      "cell_type": "code",
      "source": [],
      "metadata": {
        "id": "F2k5F2FUMLvA"
      },
      "execution_count": null,
      "outputs": []
    },
    {
      "cell_type": "markdown",
      "source": [
        "\n",
        "\n",
        "---\n",
        "\n",
        "####**Άσκηση 3**\n",
        "\n",
        "**Try yourself**: Συμπληρώστε το παρακάτω code cell, ακολουθώντας τα σχόλια που περιέχει, έτσι ώστε ο κώδικας:\n",
        "\n",
        "* να φτιάχνει ένα λεξικό με κλειδιά τις πόλεις: Αθήνα, θεσσαλονίκη, Λισαβόνα και τιμές σε όλα το 0\n",
        "* να φτιάχνει μια λίστα με τιμές αριθμούς που δηλώνουν τις θερμοκρασίες της ημέρας σε κάθε πόλη: 19, 17, 21\n",
        "* να περιέχει μια λούπα που θα τρέχει αριθμούς στο εύρος των τιμών που μπορεί να πάρει το index των αντικειμένων της λίστας και\n",
        "  1. θα εκχωρεί το εκάστοτε όνομα του key του λεξικού σε μια μεταβλητή\n",
        "  2. θα θέτει σαν τιμή του εκάστοτε κλειδιού την αντίστοιχη τιμή από τη λίστα των θερμοκρασιών\n",
        "\n",
        "**Tips**: \n",
        "* θα χρησιμοποιηθεί η συνάρτηση list για να μετατραπεί το set των keys() σε λίστα\n",
        "* θα χρησιμοποιηθεί ο αριθμός index για να επιλέγονται τα keys του λεξικού και τα αντικείμενα της λίστας\n"
      ],
      "metadata": {
        "id": "s72eW477yQAa"
      }
    },
    {
      "cell_type": "code",
      "source": [
        "# φτιάξε ένα λεξικό με κλειδιά τις πόλεις: Αθήνα, θεσσαλονίκη, Λισαβόνα και τιμές σε όλα το 0\n",
        "cities_tempD = { \"Αθήνα\" :0,\n",
        "                 \"Θεσσαλονίκη\" :0,\n",
        "                 \"Λισαβόνα \" :0\n",
        "                }\n",
        "\n",
        "# φτιάξτε μια λίστα με τιμές αριθμούς που δηλώνουν τις θερμοκρασίες της ημέρας σε κάθε πόλη: 19, 17, 21\n",
        "tempL = [19 , 17 , 21]\n",
        "\n",
        "\n",
        "# φτιάξτε μια for λούπα που θα τρέχει αριθμούς στο εύρος των τιμών που μπορεί να πάρει το index των αντικειμένων της λίστας temp\n",
        "for i in range (0, len(tempL)) :\n",
        "  print (i, end = \" \")\n",
        "\n",
        "  # δώσε στη μεταβλητή key την τιμή του κλειδιού του λεξικού που αντιστοιχεί στον τρέχοντα αριθμό index\n",
        "  # μην ξεχάσετε να μετατρέψετε το set των keys σε λίστα - προσοχή στις παρενθέσεις\n",
        "key = [] \n",
        "list(cities_tempD.key)\n",
        "for i in range (0, len(key)):\n",
        "  cities_tempD[i] = key[i]\n",
        "\n",
        "    \n",
        "  \n",
        "  # δώσε στο τρέχον key του λεξικού την τιμή από τη λίστα των θερμοκρασιών που αντιστοιχεί στον τρέχοντα αριθμό index\n",
        "  \n",
        "# (εκτός της for λούπας - δηλαδή χωρίς intend) τύπωσε το λεξικό\n"
      ],
      "metadata": {
        "id": "Vc3syTaA0KPe",
        "colab": {
          "base_uri": "https://localhost:8080/",
          "height": 262
        },
        "outputId": "1609f570-f467-44fe-fe13-226390e5cbe1"
      },
      "execution_count": null,
      "outputs": [
        {
          "output_type": "stream",
          "name": "stdout",
          "text": [
            "0 1 2 "
          ]
        },
        {
          "output_type": "error",
          "ename": "AttributeError",
          "evalue": "ignored",
          "traceback": [
            "\u001b[0;31m---------------------------------------------------------------------------\u001b[0m",
            "\u001b[0;31mAttributeError\u001b[0m                            Traceback (most recent call last)",
            "\u001b[0;32m<ipython-input-5-86b0d88a0d70>\u001b[0m in \u001b[0;36m<cell line: 18>\u001b[0;34m()\u001b[0m\n\u001b[1;32m     16\u001b[0m   \u001b[0;31m# μην ξεχάσετε να μετατρέψετε το set των keys σε λίστα - προσοχή στις παρενθέσεις\u001b[0m\u001b[0;34m\u001b[0m\u001b[0;34m\u001b[0m\u001b[0m\n\u001b[1;32m     17\u001b[0m \u001b[0mkey\u001b[0m \u001b[0;34m=\u001b[0m \u001b[0;34m[\u001b[0m\u001b[0;34m]\u001b[0m\u001b[0;34m\u001b[0m\u001b[0;34m\u001b[0m\u001b[0m\n\u001b[0;32m---> 18\u001b[0;31m \u001b[0mlist\u001b[0m\u001b[0;34m(\u001b[0m\u001b[0mcities_tempD\u001b[0m\u001b[0;34m.\u001b[0m\u001b[0mkey\u001b[0m\u001b[0;34m)\u001b[0m\u001b[0;34m\u001b[0m\u001b[0;34m\u001b[0m\u001b[0m\n\u001b[0m\u001b[1;32m     19\u001b[0m \u001b[0;32mfor\u001b[0m \u001b[0mi\u001b[0m \u001b[0;32min\u001b[0m \u001b[0mrange\u001b[0m \u001b[0;34m(\u001b[0m\u001b[0;36m0\u001b[0m\u001b[0;34m,\u001b[0m \u001b[0mlen\u001b[0m\u001b[0;34m(\u001b[0m\u001b[0mkey\u001b[0m\u001b[0;34m)\u001b[0m\u001b[0;34m)\u001b[0m\u001b[0;34m:\u001b[0m\u001b[0;34m\u001b[0m\u001b[0;34m\u001b[0m\u001b[0m\n\u001b[1;32m     20\u001b[0m   \u001b[0mcities_tempD\u001b[0m\u001b[0;34m[\u001b[0m\u001b[0mi\u001b[0m\u001b[0;34m]\u001b[0m \u001b[0;34m=\u001b[0m \u001b[0mkey\u001b[0m\u001b[0;34m[\u001b[0m\u001b[0mi\u001b[0m\u001b[0;34m]\u001b[0m\u001b[0;34m\u001b[0m\u001b[0;34m\u001b[0m\u001b[0m\n",
            "\u001b[0;31mAttributeError\u001b[0m: 'dict' object has no attribute 'key'"
          ]
        }
      ]
    },
    {
      "cell_type": "markdown",
      "source": [
        "\n",
        "\n",
        "---\n",
        "\n",
        "####**Ασκηση 4**\n",
        "\n",
        "**Try yourself**: \n",
        "\n",
        "Στο κελί κώδικα ακριβώς κάτω από αυτό:\n",
        "\n",
        "* δημιουργήστε μια μεταβλητή με τιμή το όνομά σας και τρέξτε το κελί\n",
        "\n",
        "Φτιάξτε ένα **νέο κελί** (Code cell) από κάτω και:\n",
        "\n",
        "* γράψτε ένα κομμάτι κώδικα το οποίο:\n",
        "  * θα ελέγχει αν η τιμή της μεταβλητής του ονόματος είναι \"Terry\"\n",
        "  * αν είναι, θα τυπώνει στην οθόνη \"Γειά σου Terry!\"\n",
        "  * αν δεν είναι:\n",
        "    * θα τυπώνει \"Wrong user\" και \n",
        "    * θα θέτει στη μεταβλητή του ονόματός σας την τιμή \"Terry\"\n",
        "* πριν τρέξετε το κελί, μαντέψτε τι θα τυπωθεί στην οθόνη\n",
        "* τρέξτε το κελί και συγκρίνετε το αποτέλεσμα με τη μαντεψιά σας\n",
        "* τι θα τυπωθεί αν ξανατρέξετε το κελί;"
      ],
      "metadata": {
        "id": "HSPetZqoTPiy"
      }
    },
    {
      "cell_type": "code",
      "source": [
        "name = \"lydia\""
      ],
      "metadata": {
        "id": "dEUrYPufcd23"
      },
      "execution_count": null,
      "outputs": []
    },
    {
      "cell_type": "code",
      "source": [
        "if name == \"Terry\" :\n",
        "  print ( \"Γειά σου Terry !\" )\n",
        "else :\n",
        "  print ( \"Wrong User\" , name.replace (\"lydia\",\"Terry\"))  "
      ],
      "metadata": {
        "id": "Kq6yGIKdKKRT",
        "colab": {
          "base_uri": "https://localhost:8080/"
        },
        "outputId": "a142c39c-3f2b-4175-e17d-2c9cb5a11145"
      },
      "execution_count": null,
      "outputs": [
        {
          "output_type": "stream",
          "name": "stdout",
          "text": [
            "Wrong User Terry\n"
          ]
        }
      ]
    },
    {
      "cell_type": "markdown",
      "source": [
        "* πώς θα κάνετε να ξανατυπώσει \"Wrong user\" χωρίς να γράψετε καθόλου κώδικα; Γράψτε την απάντηση από κάτω σε ένα text cell ή σε ένα code cell σαν comment."
      ],
      "metadata": {
        "id": "76wOxK3XjOek"
      }
    },
    {
      "cell_type": "markdown",
      "source": [
        "\n",
        "\n",
        "---\n",
        "\n",
        "####**Άσκηση 5**"
      ],
      "metadata": {
        "id": "hedzZ2gBa-6g"
      }
    },
    {
      "cell_type": "markdown",
      "source": [
        "Έστω ότι έχουμε μια λίστα με φρούτα"
      ],
      "metadata": {
        "id": "fmsiDiVgccAP"
      }
    },
    {
      "cell_type": "code",
      "source": [
        "fruitsL = [\"apples\", \"oranges\", \"strawberries\", \"apricots\"]"
      ],
      "metadata": {
        "id": "cBI43Hg2Z3VD"
      },
      "execution_count": null,
      "outputs": []
    },
    {
      "cell_type": "markdown",
      "source": [
        "και μια λίστα με τους αριθμούς 1 και 10"
      ],
      "metadata": {
        "id": "H-rytYULOAY0"
      }
    },
    {
      "cell_type": "code",
      "source": [],
      "metadata": {
        "id": "pRoqOA4Ah6G6"
      },
      "execution_count": null,
      "outputs": []
    },
    {
      "cell_type": "code",
      "source": [
        "countsL = [1, 10]"
      ],
      "metadata": {
        "id": "EFDfTEhtOHKK"
      },
      "execution_count": null,
      "outputs": []
    },
    {
      "cell_type": "markdown",
      "source": [
        "Γράψτε έναν κώδικα που θα λουπάρει σε όλα τα φρούτα της λίστας και σε όλους τους αριθμούς της countL και θα τυπώνει το μήνυμα: We've got <αριθμός> <φρούτο>\n",
        "\n",
        "**Tip**: χρησιμοποιήστε nested for loops (μια for loop μέσα σε μια άλλη for loop)"
      ],
      "metadata": {
        "id": "RLB0fP0gczIt"
      }
    },
    {
      "cell_type": "code",
      "source": [
        "for i in  fruitsL:\n",
        "  for n in countsL:\n",
        "    print( \"we've got:\" , n , i)"
      ],
      "metadata": {
        "colab": {
          "base_uri": "https://localhost:8080/"
        },
        "id": "xmSkQh82Dndm",
        "outputId": "454471f2-020b-4171-b419-83fbc06e9b62"
      },
      "execution_count": null,
      "outputs": [
        {
          "output_type": "stream",
          "name": "stdout",
          "text": [
            "we've got: 1 apples\n",
            "we've got: 10 apples\n",
            "we've got: 1 oranges\n",
            "we've got: 10 oranges\n",
            "we've got: 1 strawberries\n",
            "we've got: 10 strawberries\n",
            "we've got: 1 apricots\n",
            "we've got: 10 apricots\n"
          ]
        }
      ]
    },
    {
      "cell_type": "markdown",
      "source": [
        "Όλα καλά, αλλά υπάρχει ένα γραμματικό λάθος. Στον ενικό, τα φρούτα δεν πρέπει να έχουν \"s\" στο τέλος."
      ],
      "metadata": {
        "id": "666ViCUydhZC"
      }
    },
    {
      "cell_type": "markdown",
      "source": [
        "Ξέρουμε ήδη ότι ένα string είναι λίστα. Επομένως μπορούμε χρησιμοποιώντας το slicing να πάρουμε τα ονόματα των φρούτων στον ενικό αφαιρώντας το \"s\" που είναι στο τέλος."
      ],
      "metadata": {
        "id": "gOZ3V13gd_CJ"
      }
    },
    {
      "cell_type": "code",
      "source": [
        "fruitsL[0][:-1]   # καλούμε το πρώτο όνομα της λίστας και από αυτό κρατάμε τα γράμματα από την αρχή έως το προτελευταίο"
      ],
      "metadata": {
        "id": "CfYY5HAie8gY",
        "colab": {
          "base_uri": "https://localhost:8080/",
          "height": 36
        },
        "outputId": "14ae5809-75d4-4908-92e7-5f8ca30877c4"
      },
      "execution_count": null,
      "outputs": [
        {
          "output_type": "execute_result",
          "data": {
            "text/plain": [
              "'apple'"
            ],
            "application/vnd.google.colaboratory.intrinsic+json": {
              "type": "string"
            }
          },
          "metadata": {},
          "execution_count": 67
        }
      ]
    },
    {
      "cell_type": "markdown",
      "source": [
        "Πολύ ωραία! Στο επόμενο cell, εφαρμόστε το slicing στη λούπα που γράψατε παραπάνω και τρέξτε το."
      ],
      "metadata": {
        "id": "ZO7tnWeZfm5D"
      }
    },
    {
      "cell_type": "code",
      "source": [
        "for fruit in fruitsL:\n",
        "  print(fruitsL[0][:-1])\n",
        "  print(fruitsL[1][:-1])\n",
        "  print(fruitsL[2][:-1])\n",
        "  print(fruitsL[3][:-1])\n",
        "\n"
      ],
      "metadata": {
        "id": "t7OHtmn8gGYH",
        "colab": {
          "base_uri": "https://localhost:8080/"
        },
        "outputId": "b3a42550-7ba8-4f07-c10f-cd743f67a437"
      },
      "execution_count": null,
      "outputs": [
        {
          "output_type": "stream",
          "name": "stdout",
          "text": [
            "apple\n",
            "orange\n",
            "strawberrie\n",
            "apricot\n",
            "apple\n",
            "orange\n",
            "strawberrie\n",
            "apricot\n",
            "apple\n",
            "orange\n",
            "strawberrie\n",
            "apricot\n",
            "apple\n",
            "orange\n",
            "strawberrie\n",
            "apricot\n"
          ]
        }
      ]
    },
    {
      "cell_type": "markdown",
      "source": [
        "Ωραία, αλλά τώρα έφυγε το \"s\" και από τον πληθυντικό. Προσθέστε στον κώδικα ένα if (μέσα στη δεύτερη for loop) για να ελέγξετε το πότε θα αφαιρείται το \"s\" και πότε θα παραμένει.\n",
        "\n",
        "**Tip**: Πολλές φορές, όταν υπάρχει μια σχετική πολυπλοκότητα, επειδή αν αρχίσουμε να γράφουμε υπάρχει ο σοβαρότατος κίνδυνος να μας σπάσουν τα νεύρα, βοηθάει να γράψουμε πρώτα έναν \"ψευτοκώδικα\" για να ξεκαθαρίσουμε τι πρέπει να γίνει:\n",
        "\n",
        "```\n",
        "Για κάθε φρούτο στη fruitsL:\n",
        "  Για κάθε αριθμό στην countsL:\n",
        "    Αν ο αριθμός είναι 1:\n",
        "      σωστό_φρούτο = <φρούτο από τη λίστα χωρίς \"s\">\n",
        "      τύπωσε(έχουμε <αριθμός> <σωστό_φρούτο>)\n",
        "    Αλλιώς:\n",
        "      τύπωσε(έχουμε <αριθμός> <φρούτο από τη λίστα>)\n",
        "```"
      ],
      "metadata": {
        "id": "D333sJzwWz0p"
      }
    },
    {
      "cell_type": "code",
      "source": [],
      "metadata": {
        "id": "4UIfG02LkDwF"
      },
      "execution_count": null,
      "outputs": []
    },
    {
      "cell_type": "code",
      "source": [
        "for fruit in fruitsL:\n",
        "  for number in countsL:\n",
        "    if number == 1 :\n",
        "      swsto_frouto = fruitsL\n",
        "      print( \"we'got :\" , number , swsto_frouto )\n"
      ],
      "metadata": {
        "colab": {
          "base_uri": "https://localhost:8080/"
        },
        "id": "Itb_lvw7XfGb",
        "outputId": "57a11fce-5c05-4d37-8100-93fd193295ad"
      },
      "execution_count": null,
      "outputs": [
        {
          "output_type": "stream",
          "name": "stdout",
          "text": [
            "we'got : 1 ['apples', 'oranges', 'strawberries', 'apricots']\n",
            "we'got : 1 ['apples', 'oranges', 'strawberries', 'apricots']\n",
            "we'got : 1 ['apples', 'oranges', 'strawberries', 'apricots']\n",
            "we'got : 1 ['apples', 'oranges', 'strawberries', 'apricots']\n"
          ]
        }
      ]
    },
    {
      "cell_type": "markdown",
      "source": [
        "Ωραία, αλλά και πάλι, το strawberrie δεν είναι σωστό. \n",
        "\n",
        "Αντιγράψτε τον κώδικα και προσθέστε μια εντολή if, η οποία θα ελέγχει αν το τρίτο γράμμα από το τέλος του εκάστοτε ονόματος στη λίστα των φρούτων είναι \"i\" (strawberr**i**es). Αν είναι, τότε θα αντικαθιστά (replace) ό,τι πρέπει να αντικατασταθεί όταν τυπώνει το όνομα. \n",
        "\n",
        "**Help**: o ψευτοκώδικας θα ήταν κάπως έτσι:\n",
        "\n",
        "```\n",
        "Για κάθε φρούτο στη fruitsL:\n",
        "  Για κάθε αριθμό στην countsL:\n",
        "    Αν ο αριθμός είναι 1:\n",
        "      Αν <το 3ο γράμμα απ' το τέλος στο όνομα του φρούτου> είναι \"i\":\n",
        "        σωστό_όνομα = <φρούτο απ'τη λίστα με αντικατάσταση της κατάληξης τάδε με τάδε> \n",
        "        τύπωσε(έχουμε <αριθμός> <σωστό όνομα>)\n",
        "      Αλλιώς:\n",
        "        τύπωσε(έχουμε <αριθμός> <φρούτο από τη λίστα χωρίς \"s\">)\n",
        "    Αλλιώς:\n",
        "      τύπωσε(έχουμε <αριθμός> <φρούτο από τη λίστα)\n",
        "```"
      ],
      "metadata": {
        "id": "gEgSD4T8gR9J"
      }
    },
    {
      "cell_type": "code",
      "source": [],
      "metadata": {
        "id": "VcUhUTNDhBHs"
      },
      "execution_count": null,
      "outputs": []
    }
  ]
}